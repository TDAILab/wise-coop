{
 "cells": [
  {
   "cell_type": "code",
   "execution_count": 1,
   "metadata": {},
   "outputs": [
    {
     "name": "stderr",
     "output_type": "stream",
     "text": [
      "/Users/kokinoda/opt/anaconda3/lib/python3.7/site-packages/sklearn/linear_model/_logistic.py:940: ConvergenceWarning: lbfgs failed to converge (status=1):\n",
      "STOP: TOTAL NO. of ITERATIONS REACHED LIMIT.\n",
      "\n",
      "Increase the number of iterations (max_iter) or scale the data as shown in:\n",
      "    https://scikit-learn.org/stable/modules/preprocessing.html\n",
      "Please also refer to the documentation for alternative solver options:\n",
      "    https://scikit-learn.org/stable/modules/linear_model.html#logistic-regression\n",
      "  extra_warning_msg=_LOGISTIC_SOLVER_CONVERGENCE_MSG)\n"
     ]
    }
   ],
   "source": [
    "from sklearn import datasets\n",
    "from sklearn.model_selection import train_test_split\n",
    "from sklearn.linear_model import LogisticRegression\n",
    "\n",
    "iris = datasets.load_iris()\n",
    "X_train,X_test,y_train,y_test = train_test_split(iris.data,iris.target,test_size=0.4, random_state=21)\n",
    "model = LogisticRegression()\n",
    "model.fit(X_train, y_train)\n",
    "# make prediction (None, n_classes)\n",
    "y_pred_proba = model.predict_proba(X_test)"
   ]
  },
  {
   "cell_type": "code",
   "execution_count": 2,
   "metadata": {
    "scrolled": false
   },
   "outputs": [
    {
     "data": {
      "text/plain": [
       "1.0"
      ]
     },
     "execution_count": 2,
     "metadata": {},
     "output_type": "execute_result"
    },
    {
     "data": {
      "image/png": "[encoded data removed]",
      "text/plain": [
       "<Figure size 432x288 with 1 Axes>"
      ]
     },
     "metadata": {
      "needs_background": "light"
     },
     "output_type": "display_data"
    }
   ],
   "source": [
    "import numpy as np\n",
    "from wisecoop import Cooperante\n",
    "\n",
    "# prepare penalty array\n",
    "penalty_array = np.array([[0, 1, 1],\n",
    "                          [1, 0, 1],\n",
    "                          [1, 1, 0]])\n",
    "# Instantiation\n",
    "coop = Cooperante(penalty_array)\n",
    "# Fitting\n",
    "pred, penalty_min = coop.fit(y_pred_proba)\n",
    "# Visualization\n",
    "fig, ax = coop.plot_eval(y_test, metrics='recall_score', class_ref = 1, sampling_rate = 0.01)\n",
    "\n",
    "# Percentage of human cooperatoin to achieve your KPI (e.g. recall score >= 0.99)\n",
    "coop.score_to_check_rate(class_ref = 1, metric=\"recall_score\", threshold = 0.99)\n",
    "coop.check_rate_to_score(class_ref = 1, metric=\"recall_score\", threshold = 0.5)"
   ]
  },
  {
   "cell_type": "code",
   "execution_count": null,
   "metadata": {},
   "outputs": [],
   "source": [
    "# Instantiation\n",
    "coop = Cooperante(penalty_array, class_to_check=1)\n",
    "# Fitting\n",
    "pred, penalty_min = coop.fit(y_pred_proba)\n",
    "# Visualization\n",
    "fig, ax = coop.plot_eval(y_test, metrics='recall_score', show_oracle=True,class_ref = [0,1,2],sampling_rate=0.01)\n",
    "# Percentage of human cooperatoin to achieve your KPI (e.g. recall score >= 0.99)\n",
    "coop.check_threshold([0.95, 0.99])"
   ]
  },
  {
   "cell_type": "code",
   "execution_count": null,
   "metadata": {
    "scrolled": true
   },
   "outputs": [],
   "source": [
    "import numpy as np\n",
    "# prepare penalty array\n",
    "penalty_array_1 = np.array([[0, 1, 1],\n",
    "                          [50, 0, 1],\n",
    "                          [1, 1, 0]])\n",
    "# Instantiation\n",
    "coop_1 = Cooperante(penalty_array_1)\n",
    "# Fitting\n",
    "pred, penalty_min = coop_1.fit(y_pred_proba)\n",
    "# Visualization\n",
    "fig, ax = coop_1.plot_eval(y_test, metrics='recall_score', class_ref = 0, sampling_rate=0.01)\n",
    "\n",
    "coop_1.check_threshold([0.95, 0.99])"
   ]
  },
  {
   "cell_type": "code",
   "execution_count": null,
   "metadata": {},
   "outputs": [],
   "source": []
  },
  {
   "cell_type": "code",
   "execution_count": null,
   "metadata": {},
   "outputs": [],
   "source": []
  },
  {
   "cell_type": "code",
   "execution_count": null,
   "metadata": {},
   "outputs": [],
   "source": []
  },
  {
   "cell_type": "code",
   "execution_count": null,
   "metadata": {},
   "outputs": [],
   "source": [
    "import numpy as np\n",
    "\n",
    "from wisecoop import Cooperante\n",
    "import matplotlib.pyplot as plt"
   ]
  },
  {
   "cell_type": "code",
   "execution_count": null,
   "metadata": {},
   "outputs": [],
   "source": [
    "prob = np.load(\"test.npy\")\n",
    "label = np.load(\"answer.npy\")"
   ]
  },
  {
   "cell_type": "code",
   "execution_count": null,
   "metadata": {},
   "outputs": [],
   "source": [
    "penalty_array = np.array([[0,1],[1, 0]])\n",
    "coop = Cooperante(penalty_array, class_to_check=[1])\n",
    "\n",
    "# coop_pred:(None,)\n",
    "# expected_rink:(None,)\n",
    "coop_pred, expected_risk = coop.fit(prob)"
   ]
  },
  {
   "cell_type": "code",
   "execution_count": null,
   "metadata": {
    "scrolled": true
   },
   "outputs": [],
   "source": [
    "# Visualize\n",
    "fig, ax = coop.plot_eval(label, metrics=['recall_score',\"precision_score\"], class_ref = [1,0])\n",
    "ax.set_xlabel('x value')\n",
    "ax.set_ylabel('y value')\n",
    "ax.legend(loc=\"lower right\")\n",
    "ax.grid()\n",
    "ax.set_ylim(0.9,1.01)\n",
    "coop.check_threshold()"
   ]
  },
  {
   "cell_type": "code",
   "execution_count": null,
   "metadata": {},
   "outputs": [],
   "source": [
    "plt.hist(y_pred_proba[:, 2], cumulative=True, bins=20)"
   ]
  }
 ],
 "metadata": {
  "kernelspec": {
   "display_name": "Python 3",
   "language": "python",
   "name": "python3"
  },
  "language_info": {
   "codemirror_mode": {
    "name": "ipython",
    "version": 3
   },
   "file_extension": ".py",
   "mimetype": "text/x-python",
   "name": "python",
   "nbconvert_exporter": "python",
   "pygments_lexer": "ipython3",
   "version": "3.7.6"
  }
 },
 "nbformat": 4,
 "nbformat_minor": 4
}
